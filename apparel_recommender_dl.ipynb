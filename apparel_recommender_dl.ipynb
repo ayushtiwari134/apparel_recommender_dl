{
 "cells": [
  {
   "cell_type": "code",
   "execution_count": null,
   "id": "4fabe192",
   "metadata": {},
   "outputs": [
    {
     "ename": "",
     "evalue": "",
     "output_type": "error",
     "traceback": [
      "\u001b[1;31mRunning cells with 'Machine_Learning' requires the ipykernel package.\n",
      "\u001b[1;31mRun the following command to install 'ipykernel' into the Python environment. \n",
      "\u001b[1;31mCommand: 'conda install -n Machine_Learning ipykernel --update-deps --force-reinstall'"
     ]
    }
   ],
   "source": [
    "import numpy as np\n",
    "import pandas as pd\n",
    "import tensorflow as tf\n",
    "from tensorflow.keras.preprocessing import image\n",
    "from tensorflow.keras.layers import GlobalMaxPooling2D\n",
    "from tensorflow.keras import Sequential\n",
    "from sklearn.pipeline import Pipeline\n",
    "from sklearn.compose import ColumnTransformer\n",
    "from sklearn.preprocessing import MinMaxScaler\n",
    "from sklearn.preprocessing import FunctionTransformer\n",
    "from sklearn import set_config\n",
    "from numpy.linalg import norm\n",
    "import pickle\n",
    "from tqdm import tqdm\n",
    "#resnet model\n",
    "from tensorflow.keras.applications.resnet50 import ResNet50,preprocess_input"
   ]
  },
  {
   "cell_type": "code",
   "execution_count": null,
   "id": "dd296c3f",
   "metadata": {},
   "outputs": [
    {
     "ename": "",
     "evalue": "",
     "output_type": "error",
     "traceback": [
      "\u001b[1;31mRunning cells with 'Machine_Learning' requires the ipykernel package.\n",
      "\u001b[1;31mRun the following command to install 'ipykernel' into the Python environment. \n",
      "\u001b[1;31mCommand: 'conda install -n Machine_Learning ipykernel --update-deps --force-reinstall'"
     ]
    }
   ],
   "source": [
    "# creating instance (object) of the model\n",
    "model = ResNet50(weights='imagenet',include_top=False,input_shape=(224,224,3))"
   ]
  },
  {
   "cell_type": "code",
   "execution_count": null,
   "id": "02b6606f",
   "metadata": {},
   "outputs": [
    {
     "ename": "",
     "evalue": "",
     "output_type": "error",
     "traceback": [
      "\u001b[1;31mRunning cells with 'Machine_Learning' requires the ipykernel package.\n",
      "\u001b[1;31mRun the following command to install 'ipykernel' into the Python environment. \n",
      "\u001b[1;31mCommand: 'conda install -n Machine_Learning ipykernel --update-deps --force-reinstall'"
     ]
    }
   ],
   "source": [
    "# disabling training the model \n",
    "model.trainable= False"
   ]
  },
  {
   "cell_type": "markdown",
   "id": "3b94a931",
   "metadata": {},
   "source": [
    "#### Why do we update the last layer of the model?\n",
    "while finding the images that are closest to the one uploaded by the user, we need to calculate the eucledian distance of the vector created from the uploaded image with every single vector created from the images in the database. To reduce the complexity and hence the time required for the same, we need to reduce the dimensionality of the vector of features produced by the model. By default, the model produces a matrix of 4 dimensions, the GlobalMaxPooling2D layer reduces that to 2. The model scans the image, the CNN layers go through each individual pixel, try to analyse the patterns and ultimately produce a matrix of 2048 features which the model thinks best seperates the features apart from one another."
   ]
  },
  {
   "cell_type": "code",
   "execution_count": null,
   "id": "e9a359f3",
   "metadata": {},
   "outputs": [
    {
     "ename": "",
     "evalue": "",
     "output_type": "error",
     "traceback": [
      "\u001b[1;31mRunning cells with 'Machine_Learning' requires the ipykernel package.\n",
      "\u001b[1;31mRun the following command to install 'ipykernel' into the Python environment. \n",
      "\u001b[1;31mCommand: 'conda install -n Machine_Learning ipykernel --update-deps --force-reinstall'"
     ]
    }
   ],
   "source": [
    "# changing the top layer of the model and replacing it with GlobalMaxPooling2D layer\n",
    "model = Sequential([\n",
    "    model,  #uptil here the model is the same as that which we imported\n",
    "    GlobalMaxPooling2D()   #the new GlobalMaxPooling2D layer\n",
    "])"
   ]
  },
  {
   "cell_type": "code",
   "execution_count": null,
   "id": "1ceba323",
   "metadata": {},
   "outputs": [
    {
     "ename": "",
     "evalue": "",
     "output_type": "error",
     "traceback": [
      "\u001b[1;31mRunning cells with 'Machine_Learning' requires the ipykernel package.\n",
      "\u001b[1;31mRun the following command to install 'ipykernel' into the Python environment. \n",
      "\u001b[1;31mCommand: 'conda install -n Machine_Learning ipykernel --update-deps --force-reinstall'"
     ]
    }
   ],
   "source": [
    "model.summary()"
   ]
  },
  {
   "cell_type": "markdown",
   "id": "f0e0be92",
   "metadata": {},
   "source": [
    "As we can see, the output shape of the GlobalMaxPooling2D() layer is a 2D matrix instead of 4 which is what we wanted."
   ]
  },
  {
   "cell_type": "code",
   "execution_count": null,
   "id": "a6b62a08",
   "metadata": {},
   "outputs": [
    {
     "ename": "",
     "evalue": "",
     "output_type": "error",
     "traceback": [
      "\u001b[1;31mRunning cells with 'Machine_Learning' requires the ipykernel package.\n",
      "\u001b[1;31mRun the following command to install 'ipykernel' into the Python environment. \n",
      "\u001b[1;31mCommand: 'conda install -n Machine_Learning ipykernel --update-deps --force-reinstall'"
     ]
    }
   ],
   "source": [
    "img = image.load_img('images/1163.jpg',target_size=(224,224))"
   ]
  },
  {
   "cell_type": "code",
   "execution_count": null,
   "id": "2d64ea34",
   "metadata": {},
   "outputs": [
    {
     "ename": "",
     "evalue": "",
     "output_type": "error",
     "traceback": [
      "\u001b[1;31mRunning cells with 'Machine_Learning' requires the ipykernel package.\n",
      "\u001b[1;31mRun the following command to install 'ipykernel' into the Python environment. \n",
      "\u001b[1;31mCommand: 'conda install -n Machine_Learning ipykernel --update-deps --force-reinstall'"
     ]
    }
   ],
   "source": [
    "print(type(img))"
   ]
  },
  {
   "cell_type": "code",
   "execution_count": null,
   "id": "022688b1",
   "metadata": {},
   "outputs": [
    {
     "ename": "",
     "evalue": "",
     "output_type": "error",
     "traceback": [
      "\u001b[1;31mRunning cells with 'Machine_Learning' requires the ipykernel package.\n",
      "\u001b[1;31mRun the following command to install 'ipykernel' into the Python environment. \n",
      "\u001b[1;31mCommand: 'conda install -n Machine_Learning ipykernel --update-deps --force-reinstall'"
     ]
    }
   ],
   "source": [
    "img_array = image.img_to_array(img)"
   ]
  },
  {
   "cell_type": "code",
   "execution_count": null,
   "id": "34ab0fd1",
   "metadata": {},
   "outputs": [
    {
     "ename": "",
     "evalue": "",
     "output_type": "error",
     "traceback": [
      "\u001b[1;31mRunning cells with 'Machine_Learning' requires the ipykernel package.\n",
      "\u001b[1;31mRun the following command to install 'ipykernel' into the Python environment. \n",
      "\u001b[1;31mCommand: 'conda install -n Machine_Learning ipykernel --update-deps --force-reinstall'"
     ]
    }
   ],
   "source": [
    "img_array.shape"
   ]
  },
  {
   "cell_type": "markdown",
   "id": "402efe91",
   "metadata": {},
   "source": [
    "Since the keras Resnet50 model takes in a 4D matrix as an input instead of a 3D matrix, where the extra dimension refers to batch size; we have to convert this 3D matrix image into a 4D one. "
   ]
  },
  {
   "cell_type": "code",
   "execution_count": null,
   "id": "d816eaba",
   "metadata": {},
   "outputs": [
    {
     "ename": "",
     "evalue": "",
     "output_type": "error",
     "traceback": [
      "\u001b[1;31mRunning cells with 'Machine_Learning' requires the ipykernel package.\n",
      "\u001b[1;31mRun the following command to install 'ipykernel' into the Python environment. \n",
      "\u001b[1;31mCommand: 'conda install -n Machine_Learning ipykernel --update-deps --force-reinstall'"
     ]
    }
   ],
   "source": [
    "# adding an extra dimension to the image array\n",
    "reshaped_img = np.expand_dims(img_array,axis=0)"
   ]
  },
  {
   "cell_type": "code",
   "execution_count": null,
   "id": "5c1b7fae",
   "metadata": {},
   "outputs": [
    {
     "ename": "",
     "evalue": "",
     "output_type": "error",
     "traceback": [
      "\u001b[1;31mRunning cells with 'Machine_Learning' requires the ipykernel package.\n",
      "\u001b[1;31mRun the following command to install 'ipykernel' into the Python environment. \n",
      "\u001b[1;31mCommand: 'conda install -n Machine_Learning ipykernel --update-deps --force-reinstall'"
     ]
    }
   ],
   "source": [
    "reshaped_img.shape"
   ]
  },
  {
   "cell_type": "code",
   "execution_count": null,
   "id": "43917a37",
   "metadata": {
    "scrolled": true
   },
   "outputs": [
    {
     "ename": "",
     "evalue": "",
     "output_type": "error",
     "traceback": [
      "\u001b[1;31mRunning cells with 'Machine_Learning' requires the ipykernel package.\n",
      "\u001b[1;31mRun the following command to install 'ipykernel' into the Python environment. \n",
      "\u001b[1;31mCommand: 'conda install -n Machine_Learning ipykernel --update-deps --force-reinstall'"
     ]
    }
   ],
   "source": [
    "reshaped_img"
   ]
  },
  {
   "cell_type": "code",
   "execution_count": null,
   "id": "799a3ddf",
   "metadata": {},
   "outputs": [
    {
     "ename": "",
     "evalue": "",
     "output_type": "error",
     "traceback": [
      "\u001b[1;31mRunning cells with 'Machine_Learning' requires the ipykernel package.\n",
      "\u001b[1;31mRun the following command to install 'ipykernel' into the Python environment. \n",
      "\u001b[1;31mCommand: 'conda install -n Machine_Learning ipykernel --update-deps --force-reinstall'"
     ]
    }
   ],
   "source": [
    "# changing the array slightly to make sure it comes in the format of the input of the model.\n",
    "preprocessed_img_arr = preprocess_input(reshaped_img)"
   ]
  },
  {
   "cell_type": "code",
   "execution_count": null,
   "id": "9aec3a67",
   "metadata": {
    "scrolled": true
   },
   "outputs": [
    {
     "ename": "",
     "evalue": "",
     "output_type": "error",
     "traceback": [
      "\u001b[1;31mRunning cells with 'Machine_Learning' requires the ipykernel package.\n",
      "\u001b[1;31mRun the following command to install 'ipykernel' into the Python environment. \n",
      "\u001b[1;31mCommand: 'conda install -n Machine_Learning ipykernel --update-deps --force-reinstall'"
     ]
    }
   ],
   "source": [
    "preprocessed_img_arr"
   ]
  },
  {
   "cell_type": "markdown",
   "id": "2b5d4fc4",
   "metadata": {},
   "source": [
    "This **preprocessed_img_arr** becomes the input for the model which can be used to predict the 2048 features and return a vector of the same"
   ]
  },
  {
   "cell_type": "code",
   "execution_count": null,
   "id": "d4fcb8cf",
   "metadata": {},
   "outputs": [
    {
     "ename": "",
     "evalue": "",
     "output_type": "error",
     "traceback": [
      "\u001b[1;31mRunning cells with 'Machine_Learning' requires the ipykernel package.\n",
      "\u001b[1;31mRun the following command to install 'ipykernel' into the Python environment. \n",
      "\u001b[1;31mCommand: 'conda install -n Machine_Learning ipykernel --update-deps --force-reinstall'"
     ]
    }
   ],
   "source": [
    "def reshape_image_to_input(path):\n",
    "    img = image.load_img(path,target_size=(224,224))\n",
    "    img_array = image.img_to_array(img)\n",
    "    reshaped_img = np.expand_dims(img_array,axis=0)\n",
    "    preprocessed_img_arr = preprocess_input(reshaped_img)\n",
    "    return preprocessed_img_arr"
   ]
  },
  {
   "cell_type": "code",
   "execution_count": null,
   "id": "f1a44f76",
   "metadata": {},
   "outputs": [
    {
     "ename": "",
     "evalue": "",
     "output_type": "error",
     "traceback": [
      "\u001b[1;31mRunning cells with 'Machine_Learning' requires the ipykernel package.\n",
      "\u001b[1;31mRun the following command to install 'ipykernel' into the Python environment. \n",
      "\u001b[1;31mCommand: 'conda install -n Machine_Learning ipykernel --update-deps --force-reinstall'"
     ]
    }
   ],
   "source": [
    "def flatten_image_array_to1D(array):\n",
    "    array = array.flatten()\n",
    "    return array"
   ]
  },
  {
   "cell_type": "code",
   "execution_count": null,
   "id": "085cc600",
   "metadata": {},
   "outputs": [
    {
     "ename": "",
     "evalue": "",
     "output_type": "error",
     "traceback": [
      "\u001b[1;31mRunning cells with 'Machine_Learning' requires the ipykernel package.\n",
      "\u001b[1;31mRun the following command to install 'ipykernel' into the Python environment. \n",
      "\u001b[1;31mCommand: 'conda install -n Machine_Learning ipykernel --update-deps --force-reinstall'"
     ]
    }
   ],
   "source": [
    "pr = reshape_image_to_input('images/1540.jpg')"
   ]
  },
  {
   "cell_type": "code",
   "execution_count": null,
   "id": "18c01511",
   "metadata": {},
   "outputs": [
    {
     "ename": "",
     "evalue": "",
     "output_type": "error",
     "traceback": [
      "\u001b[1;31mRunning cells with 'Machine_Learning' requires the ipykernel package.\n",
      "\u001b[1;31mRun the following command to install 'ipykernel' into the Python environment. \n",
      "\u001b[1;31mCommand: 'conda install -n Machine_Learning ipykernel --update-deps --force-reinstall'"
     ]
    }
   ],
   "source": [
    "pr.shape"
   ]
  },
  {
   "cell_type": "code",
   "execution_count": null,
   "id": "1058c9e2",
   "metadata": {},
   "outputs": [
    {
     "ename": "",
     "evalue": "",
     "output_type": "error",
     "traceback": [
      "\u001b[1;31mRunning cells with 'Machine_Learning' requires the ipykernel package.\n",
      "\u001b[1;31mRun the following command to install 'ipykernel' into the Python environment. \n",
      "\u001b[1;31mCommand: 'conda install -n Machine_Learning ipykernel --update-deps --force-reinstall'"
     ]
    }
   ],
   "source": [
    "prediction = model.predict(pr)"
   ]
  },
  {
   "cell_type": "code",
   "execution_count": null,
   "id": "79e8daf8",
   "metadata": {},
   "outputs": [
    {
     "ename": "",
     "evalue": "",
     "output_type": "error",
     "traceback": [
      "\u001b[1;31mRunning cells with 'Machine_Learning' requires the ipykernel package.\n",
      "\u001b[1;31mRun the following command to install 'ipykernel' into the Python environment. \n",
      "\u001b[1;31mCommand: 'conda install -n Machine_Learning ipykernel --update-deps --force-reinstall'"
     ]
    }
   ],
   "source": [
    "pd.DataFrame(prediction)"
   ]
  },
  {
   "cell_type": "code",
   "execution_count": null,
   "id": "e45a5e67",
   "metadata": {},
   "outputs": [
    {
     "ename": "",
     "evalue": "",
     "output_type": "error",
     "traceback": [
      "\u001b[1;31mRunning cells with 'Machine_Learning' requires the ipykernel package.\n",
      "\u001b[1;31mRun the following command to install 'ipykernel' into the Python environment. \n",
      "\u001b[1;31mCommand: 'conda install -n Machine_Learning ipykernel --update-deps --force-reinstall'"
     ]
    }
   ],
   "source": [
    "# scaler = ColumnTransformer([\n",
    "#     ('scaler',MinMaxScaler(feature_range=(0.1, 0.9)),slice(0,2048))\n",
    "# ])\n",
    "def scaler_func(data):\n",
    "    return data/norm(data)"
   ]
  },
  {
   "cell_type": "code",
   "execution_count": null,
   "id": "27a62b82",
   "metadata": {},
   "outputs": [
    {
     "ename": "",
     "evalue": "",
     "output_type": "error",
     "traceback": [
      "\u001b[1;31mRunning cells with 'Machine_Learning' requires the ipykernel package.\n",
      "\u001b[1;31mRun the following command to install 'ipykernel' into the Python environment. \n",
      "\u001b[1;31mCommand: 'conda install -n Machine_Learning ipykernel --update-deps --force-reinstall'"
     ]
    }
   ],
   "source": [
    "flat_pred=flatten_image_array_to1D(prediction)\n",
    "flat_pred"
   ]
  },
  {
   "cell_type": "code",
   "execution_count": null,
   "id": "215ce4b4",
   "metadata": {},
   "outputs": [
    {
     "ename": "",
     "evalue": "",
     "output_type": "error",
     "traceback": [
      "\u001b[1;31mRunning cells with 'Machine_Learning' requires the ipykernel package.\n",
      "\u001b[1;31mRun the following command to install 'ipykernel' into the Python environment. \n",
      "\u001b[1;31mCommand: 'conda install -n Machine_Learning ipykernel --update-deps --force-reinstall'"
     ]
    }
   ],
   "source": [
    "arr = scaler_func(prediction)"
   ]
  },
  {
   "cell_type": "code",
   "execution_count": null,
   "id": "dde17939",
   "metadata": {},
   "outputs": [
    {
     "ename": "",
     "evalue": "",
     "output_type": "error",
     "traceback": [
      "\u001b[1;31mRunning cells with 'Machine_Learning' requires the ipykernel package.\n",
      "\u001b[1;31mRun the following command to install 'ipykernel' into the Python environment. \n",
      "\u001b[1;31mCommand: 'conda install -n Machine_Learning ipykernel --update-deps --force-reinstall'"
     ]
    }
   ],
   "source": [
    "arr"
   ]
  },
  {
   "cell_type": "code",
   "execution_count": null,
   "id": "7c9be2f4",
   "metadata": {},
   "outputs": [
    {
     "ename": "",
     "evalue": "",
     "output_type": "error",
     "traceback": [
      "\u001b[1;31mRunning cells with 'Machine_Learning' requires the ipykernel package.\n",
      "\u001b[1;31mRun the following command to install 'ipykernel' into the Python environment. \n",
      "\u001b[1;31mCommand: 'conda install -n Machine_Learning ipykernel --update-deps --force-reinstall'"
     ]
    }
   ],
   "source": [
    "flat_arr = flatten_image_array_to1D(arr)\n",
    "flat_arr"
   ]
  },
  {
   "cell_type": "markdown",
   "id": "c4d4b319",
   "metadata": {},
   "source": [
    "### Creating pipeline"
   ]
  },
  {
   "cell_type": "code",
   "execution_count": null,
   "id": "6828e213",
   "metadata": {},
   "outputs": [
    {
     "ename": "",
     "evalue": "",
     "output_type": "error",
     "traceback": [
      "\u001b[1;31mRunning cells with 'Machine_Learning' requires the ipykernel package.\n",
      "\u001b[1;31mRun the following command to install 'ipykernel' into the Python environment. \n",
      "\u001b[1;31mCommand: 'conda install -n Machine_Learning ipykernel --update-deps --force-reinstall'"
     ]
    }
   ],
   "source": [
    "# first transformer\n",
    "image_array_transformer = FunctionTransformer(func=reshape_image_to_input)"
   ]
  },
  {
   "cell_type": "code",
   "execution_count": null,
   "id": "8190a19c",
   "metadata": {},
   "outputs": [
    {
     "ename": "",
     "evalue": "",
     "output_type": "error",
     "traceback": [
      "\u001b[1;31mRunning cells with 'Machine_Learning' requires the ipykernel package.\n",
      "\u001b[1;31mRun the following command to install 'ipykernel' into the Python environment. \n",
      "\u001b[1;31mCommand: 'conda install -n Machine_Learning ipykernel --update-deps --force-reinstall'"
     ]
    }
   ],
   "source": [
    "#second transformer\n",
    "def pred_with_model(data):\n",
    "    data_pred = model.predict(data)\n",
    "    return data_pred\n",
    "\n",
    "model_transformer = FunctionTransformer(func=pred_with_model)    "
   ]
  },
  {
   "cell_type": "code",
   "execution_count": null,
   "id": "9dad75b6",
   "metadata": {},
   "outputs": [
    {
     "ename": "",
     "evalue": "",
     "output_type": "error",
     "traceback": [
      "\u001b[1;31mRunning cells with 'Machine_Learning' requires the ipykernel package.\n",
      "\u001b[1;31mRun the following command to install 'ipykernel' into the Python environment. \n",
      "\u001b[1;31mCommand: 'conda install -n Machine_Learning ipykernel --update-deps --force-reinstall'"
     ]
    }
   ],
   "source": [
    "#third transformer\n",
    "scaler_f = FunctionTransformer(func=scaler_func)"
   ]
  },
  {
   "cell_type": "code",
   "execution_count": null,
   "id": "ffdff732",
   "metadata": {},
   "outputs": [
    {
     "ename": "",
     "evalue": "",
     "output_type": "error",
     "traceback": [
      "\u001b[1;31mRunning cells with 'Machine_Learning' requires the ipykernel package.\n",
      "\u001b[1;31mRun the following command to install 'ipykernel' into the Python environment. \n",
      "\u001b[1;31mCommand: 'conda install -n Machine_Learning ipykernel --update-deps --force-reinstall'"
     ]
    }
   ],
   "source": [
    "#fourth transformer \n",
    "flatten = FunctionTransformer(func=flatten_image_array_to1D)"
   ]
  },
  {
   "cell_type": "code",
   "execution_count": null,
   "id": "146baecd",
   "metadata": {},
   "outputs": [
    {
     "ename": "",
     "evalue": "",
     "output_type": "error",
     "traceback": [
      "\u001b[1;31mRunning cells with 'Machine_Learning' requires the ipykernel package.\n",
      "\u001b[1;31mRun the following command to install 'ipykernel' into the Python environment. \n",
      "\u001b[1;31mCommand: 'conda install -n Machine_Learning ipykernel --update-deps --force-reinstall'"
     ]
    }
   ],
   "source": [
    "# pipeline\n",
    "model_pipeline = Pipeline([\n",
    "    ('image_to_array',image_array_transformer),\n",
    "    ('model',model_transformer),\n",
    "    ('scaler',scaler_f),\n",
    "    ('flatten',flatten)\n",
    "])"
   ]
  },
  {
   "cell_type": "code",
   "execution_count": null,
   "id": "d4b58ae7",
   "metadata": {},
   "outputs": [
    {
     "ename": "",
     "evalue": "",
     "output_type": "error",
     "traceback": [
      "\u001b[1;31mRunning cells with 'Machine_Learning' requires the ipykernel package.\n",
      "\u001b[1;31mRun the following command to install 'ipykernel' into the Python environment. \n",
      "\u001b[1;31mCommand: 'conda install -n Machine_Learning ipykernel --update-deps --force-reinstall'"
     ]
    }
   ],
   "source": [
    "predicted_arr = model_pipeline.fit_transform('images/1551.jpg')"
   ]
  },
  {
   "cell_type": "code",
   "execution_count": null,
   "id": "c3e3abea",
   "metadata": {},
   "outputs": [
    {
     "ename": "",
     "evalue": "",
     "output_type": "error",
     "traceback": [
      "\u001b[1;31mRunning cells with 'Machine_Learning' requires the ipykernel package.\n",
      "\u001b[1;31mRun the following command to install 'ipykernel' into the Python environment. \n",
      "\u001b[1;31mCommand: 'conda install -n Machine_Learning ipykernel --update-deps --force-reinstall'"
     ]
    }
   ],
   "source": [
    "predicted_arr"
   ]
  },
  {
   "cell_type": "code",
   "execution_count": null,
   "id": "50af0e38",
   "metadata": {},
   "outputs": [
    {
     "ename": "",
     "evalue": "",
     "output_type": "error",
     "traceback": [
      "\u001b[1;31mRunning cells with 'Machine_Learning' requires the ipykernel package.\n",
      "\u001b[1;31mRun the following command to install 'ipykernel' into the Python environment. \n",
      "\u001b[1;31mCommand: 'conda install -n Machine_Learning ipykernel --update-deps --force-reinstall'"
     ]
    }
   ],
   "source": [
    "# exporting the pipeline\n",
    "pickle.dump(model_pipeline,open('model.pkl','wb'))"
   ]
  },
  {
   "cell_type": "code",
   "execution_count": null,
   "id": "ad603eed",
   "metadata": {},
   "outputs": [
    {
     "ename": "",
     "evalue": "",
     "output_type": "error",
     "traceback": [
      "\u001b[1;31mRunning cells with 'Machine_Learning' requires the ipykernel package.\n",
      "\u001b[1;31mRun the following command to install 'ipykernel' into the Python environment. \n",
      "\u001b[1;31mCommand: 'conda install -n Machine_Learning ipykernel --update-deps --force-reinstall'"
     ]
    }
   ],
   "source": [
    "set_config(display='diagram')"
   ]
  },
  {
   "cell_type": "code",
   "execution_count": null,
   "id": "dd7223c4",
   "metadata": {},
   "outputs": [
    {
     "ename": "",
     "evalue": "",
     "output_type": "error",
     "traceback": [
      "\u001b[1;31mRunning cells with 'Machine_Learning' requires the ipykernel package.\n",
      "\u001b[1;31mRun the following command to install 'ipykernel' into the Python environment. \n",
      "\u001b[1;31mCommand: 'conda install -n Machine_Learning ipykernel --update-deps --force-reinstall'"
     ]
    }
   ],
   "source": [
    "model2= pickle.load(open('model.pkl','rb'))"
   ]
  },
  {
   "cell_type": "code",
   "execution_count": null,
   "id": "e28c5e2e",
   "metadata": {},
   "outputs": [
    {
     "ename": "",
     "evalue": "",
     "output_type": "error",
     "traceback": [
      "\u001b[1;31mRunning cells with 'Machine_Learning' requires the ipykernel package.\n",
      "\u001b[1;31mRun the following command to install 'ipykernel' into the Python environment. \n",
      "\u001b[1;31mCommand: 'conda install -n Machine_Learning ipykernel --update-deps --force-reinstall'"
     ]
    }
   ],
   "source": [
    "yaay = model2.fit_transform('images/1565.jpg')"
   ]
  },
  {
   "cell_type": "code",
   "execution_count": null,
   "id": "56e81fbc",
   "metadata": {},
   "outputs": [
    {
     "ename": "",
     "evalue": "",
     "output_type": "error",
     "traceback": [
      "\u001b[1;31mRunning cells with 'Machine_Learning' requires the ipykernel package.\n",
      "\u001b[1;31mRun the following command to install 'ipykernel' into the Python environment. \n",
      "\u001b[1;31mCommand: 'conda install -n Machine_Learning ipykernel --update-deps --force-reinstall'"
     ]
    }
   ],
   "source": [
    "yaay2 = model2.fit_transform('images/1566.jpg')"
   ]
  },
  {
   "cell_type": "code",
   "execution_count": null,
   "id": "d56dacf5",
   "metadata": {},
   "outputs": [
    {
     "ename": "",
     "evalue": "",
     "output_type": "error",
     "traceback": [
      "\u001b[1;31mRunning cells with 'Machine_Learning' requires the ipykernel package.\n",
      "\u001b[1;31mRun the following command to install 'ipykernel' into the Python environment. \n",
      "\u001b[1;31mCommand: 'conda install -n Machine_Learning ipykernel --update-deps --force-reinstall'"
     ]
    }
   ],
   "source": [
    "import os"
   ]
  },
  {
   "cell_type": "code",
   "execution_count": null,
   "id": "fcc504bf",
   "metadata": {},
   "outputs": [
    {
     "ename": "",
     "evalue": "",
     "output_type": "error",
     "traceback": [
      "\u001b[1;31mRunning cells with 'Machine_Learning' requires the ipykernel package.\n",
      "\u001b[1;31mRun the following command to install 'ipykernel' into the Python environment. \n",
      "\u001b[1;31mCommand: 'conda install -n Machine_Learning ipykernel --update-deps --force-reinstall'"
     ]
    }
   ],
   "source": [
    "filenames = []\n",
    "\n",
    "for file in os.listdir('images'):\n",
    "    filenames.append(os.path.join('images',file))"
   ]
  },
  {
   "cell_type": "code",
   "execution_count": null,
   "id": "87eb35c5",
   "metadata": {},
   "outputs": [
    {
     "ename": "",
     "evalue": "",
     "output_type": "error",
     "traceback": [
      "\u001b[1;31mRunning cells with 'Machine_Learning' requires the ipykernel package.\n",
      "\u001b[1;31mRun the following command to install 'ipykernel' into the Python environment. \n",
      "\u001b[1;31mCommand: 'conda install -n Machine_Learning ipykernel --update-deps --force-reinstall'"
     ]
    }
   ],
   "source": [
    "filenames[:5]"
   ]
  },
  {
   "cell_type": "code",
   "execution_count": null,
   "id": "eb0ec6d6",
   "metadata": {
    "scrolled": true
   },
   "outputs": [
    {
     "ename": "",
     "evalue": "",
     "output_type": "error",
     "traceback": [
      "\u001b[1;31mRunning cells with 'Machine_Learning' requires the ipykernel package.\n",
      "\u001b[1;31mRun the following command to install 'ipykernel' into the Python environment. \n",
      "\u001b[1;31mCommand: 'conda install -n Machine_Learning ipykernel --update-deps --force-reinstall'"
     ]
    }
   ],
   "source": [
    "feature_list = []\n",
    "for file in tqdm(filenames):\n",
    "    feature_list.append(model2.fit_transform(file))"
   ]
  },
  {
   "cell_type": "code",
   "execution_count": null,
   "id": "9e216b4e",
   "metadata": {},
   "outputs": [
    {
     "ename": "",
     "evalue": "",
     "output_type": "error",
     "traceback": [
      "\u001b[1;31mRunning cells with 'Machine_Learning' requires the ipykernel package.\n",
      "\u001b[1;31mRun the following command to install 'ipykernel' into the Python environment. \n",
      "\u001b[1;31mCommand: 'conda install -n Machine_Learning ipykernel --update-deps --force-reinstall'"
     ]
    }
   ],
   "source": []
  },
  {
   "cell_type": "code",
   "execution_count": null,
   "id": "2878c8b1",
   "metadata": {},
   "outputs": [
    {
     "ename": "",
     "evalue": "",
     "output_type": "error",
     "traceback": [
      "\u001b[1;31mRunning cells with 'Machine_Learning' requires the ipykernel package.\n",
      "\u001b[1;31mRun the following command to install 'ipykernel' into the Python environment. \n",
      "\u001b[1;31mCommand: 'conda install -n Machine_Learning ipykernel --update-deps --force-reinstall'"
     ]
    }
   ],
   "source": []
  },
  {
   "cell_type": "code",
   "execution_count": null,
   "id": "4d314788",
   "metadata": {},
   "outputs": [
    {
     "ename": "",
     "evalue": "",
     "output_type": "error",
     "traceback": [
      "\u001b[1;31mRunning cells with 'Machine_Learning' requires the ipykernel package.\n",
      "\u001b[1;31mRun the following command to install 'ipykernel' into the Python environment. \n",
      "\u001b[1;31mCommand: 'conda install -n Machine_Learning ipykernel --update-deps --force-reinstall'"
     ]
    }
   ],
   "source": []
  },
  {
   "cell_type": "code",
   "execution_count": null,
   "id": "26c9f4f6",
   "metadata": {},
   "outputs": [
    {
     "ename": "",
     "evalue": "",
     "output_type": "error",
     "traceback": [
      "\u001b[1;31mRunning cells with 'Machine_Learning' requires the ipykernel package.\n",
      "\u001b[1;31mRun the following command to install 'ipykernel' into the Python environment. \n",
      "\u001b[1;31mCommand: 'conda install -n Machine_Learning ipykernel --update-deps --force-reinstall'"
     ]
    }
   ],
   "source": []
  }
 ],
 "metadata": {
  "kernelspec": {
   "display_name": "Python 3 (ipykernel)",
   "language": "python",
   "name": "python3"
  },
  "language_info": {
   "codemirror_mode": {
    "name": "ipython",
    "version": 3
   },
   "file_extension": ".py",
   "mimetype": "text/x-python",
   "name": "python",
   "nbconvert_exporter": "python",
   "pygments_lexer": "ipython3",
   "version": "3.11.5"
  }
 },
 "nbformat": 4,
 "nbformat_minor": 5
}
